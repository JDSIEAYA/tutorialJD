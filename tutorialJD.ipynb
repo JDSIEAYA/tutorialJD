{
 "cells": [
  {
   "cell_type": "markdown",
   "metadata": {},
   "source": [
    "\n",
    "# 📌 Introducción a Python --- JUAN DIEGO SIERRA\n",
    "# ¡Bienvenido a este tutorial de introducción a Python! 🎉  \n",
    "\n",
    "## 1️⃣ ¿Qué es Python?\n",
    "Python es un lenguaje de programación interpretado, fácil de leer y ampliamente utilizado en diferentes áreas como el desarrollo web, la ciencia de datos, la automatización y la inteligencia artificial. Fue creado por **Guido van Rossum** y se caracteriza por su sintaxis sencilla y poderosa.\n",
    "\n",
    "🔹 **Ventajas de Python:**\n",
    "- Sintaxis clara y fácil de aprender.\n",
    "- Gran comunidad y documentación.\n",
    "- Compatible con múltiples plataformas.\n",
    "- Amplia variedad de librerías para ciencia de datos, IA, desarrollo web, etc.\n",
    "¡Prepárate para sumergirte en el mundo de Python y comenzar a programar! 🚀🔥  "
   ]
  },
  {
   "cell_type": "markdown",
   "metadata": {},
   "source": [
    "## 🐍 Primeros Pasos en Python\n",
    "Veamos nuestro primer programa en Python:\n"
   ]
  },
  {
   "cell_type": "code",
   "execution_count": 126,
   "metadata": {},
   "outputs": [
    {
     "name": "stdout",
     "output_type": "stream",
     "text": [
      "¡Hola, mundo!\n"
     ]
    }
   ],
   "source": [
    "print(\"¡Hola, mundo!\")"
   ]
  },
  {
   "cell_type": "markdown",
   "metadata": {},
   "source": [
    "### Si ves `¡Hola, mundo!` en la pantalla, ¡felicidades! Has ejecutado tu primer programa en Python. 🎊"
   ]
  },
  {
   "cell_type": "markdown",
   "metadata": {},
   "source": [
    "# 🟢 Variables y Tipos de Datos\n",
    "\n",
    "## 📌 Variables en Python\n",
    "\n",
    "### En Python, una variable es un contenedor que almacena un valor. No es necesario declarar el tipo de una variable, ya que Python lo infiere automáticamente."
   ]
  },
  {
   "cell_type": "code",
   "execution_count": 127,
   "metadata": {},
   "outputs": [
    {
     "name": "stdout",
     "output_type": "stream",
     "text": [
      "Juan 25 1.7 True\n"
     ]
    }
   ],
   "source": [
    "nombre = \"Juan\"\n",
    "edad = 25\n",
    "altura = 1.70\n",
    "es_estudiante = True\n",
    "\n",
    "print(nombre, edad, altura, es_estudiante)"
   ]
  },
  {
   "cell_type": "markdown",
   "metadata": {},
   "source": [
    "## 📌  Tipos de Datos en Python  \n",
    "\n",
    "Python admite varios tipos de datos básicos:  "
   ]
  },
  {
   "cell_type": "markdown",
   "metadata": {},
   "source": [
    "### 1. Números  \n",
    "\n",
    "#### Enteros (`int`)  \n",
    "Números enteros positivos o negativos sin decimales:  "
   ]
  },
  {
   "cell_type": "code",
   "execution_count": null,
   "metadata": {},
   "outputs": [
    {
     "name": "stdout",
     "output_type": "stream",
     "text": [
      "<class 'int'>\n"
     ]
    }
   ],
   "source": [
    "x = 10\n",
    "y = -5\n",
    "print(type(x)) "
   ]
  },
  {
   "cell_type": "markdown",
   "metadata": {},
   "source": [
    "#### Punto Flotante (`float`)  \n",
    "Números con decimales:  "
   ]
  },
  {
   "cell_type": "code",
   "execution_count": null,
   "metadata": {},
   "outputs": [
    {
     "name": "stdout",
     "output_type": "stream",
     "text": [
      "<class 'float'>\n"
     ]
    }
   ],
   "source": [
    "x = 3.14\n",
    "y = -0.1\n",
    "print(type(x))  "
   ]
  },
  {
   "cell_type": "markdown",
   "metadata": {},
   "source": [
    "#### Complejos (`complex`)  \n",
    "Números con parte real e imaginaria:  "
   ]
  },
  {
   "cell_type": "code",
   "execution_count": null,
   "metadata": {},
   "outputs": [
    {
     "name": "stdout",
     "output_type": "stream",
     "text": [
      "<class 'complex'>\n"
     ]
    }
   ],
   "source": [
    "z = 3 + 4j\n",
    "print(type(z))  "
   ]
  },
  {
   "cell_type": "markdown",
   "metadata": {},
   "source": [
    "### 2. Cadenas de Texto (`str`)  \n",
    "Secuencias de caracteres entre comillas:  "
   ]
  },
  {
   "cell_type": "code",
   "execution_count": 131,
   "metadata": {},
   "outputs": [
    {
     "name": "stdout",
     "output_type": "stream",
     "text": [
      "Hola, Juan Diego!\n"
     ]
    }
   ],
   "source": [
    "texto = \"Hola, Juan Diego!\"\n",
    "print(texto)"
   ]
  },
  {
   "cell_type": "markdown",
   "metadata": {},
   "source": [
    "### Se pueden acceder a los caracteres usando índices:  "
   ]
  },
  {
   "cell_type": "code",
   "execution_count": null,
   "metadata": {},
   "outputs": [
    {
     "name": "stdout",
     "output_type": "stream",
     "text": [
      "H\n",
      "!\n"
     ]
    }
   ],
   "source": [
    "print(texto[0]) \n",
    "print(texto[-1]) "
   ]
  },
  {
   "cell_type": "markdown",
   "metadata": {},
   "source": [
    "### 3. Booleanos (`bool`)  \n",
    "Valores de verdad:  "
   ]
  },
  {
   "cell_type": "code",
   "execution_count": null,
   "metadata": {},
   "outputs": [
    {
     "name": "stdout",
     "output_type": "stream",
     "text": [
      "<class 'bool'>\n"
     ]
    }
   ],
   "source": [
    "es_mayor = True\n",
    "es_menor = False\n",
    "print(type(es_mayor))  "
   ]
  },
  {
   "cell_type": "markdown",
   "metadata": {},
   "source": [
    "### 4. Listas (`list`)  \n",
    "Colección ordenada y mutable:  "
   ]
  },
  {
   "cell_type": "code",
   "execution_count": null,
   "metadata": {},
   "outputs": [
    {
     "name": "stdout",
     "output_type": "stream",
     "text": [
      "[1, 2, 3]\n",
      "[10, 2, 3]\n",
      "[10, 2, 3, 4]\n"
     ]
    }
   ],
   "source": [
    "mi_lista = [1, 2, 3]\n",
    "print(mi_lista)\n",
    "mi_lista[0] = 10  \n",
    "print(mi_lista)\n",
    "mi_lista.append(4)  \n",
    "print(mi_lista) "
   ]
  },
  {
   "cell_type": "markdown",
   "metadata": {},
   "source": [
    "### 5. Tuplas (`tuple`)  \n",
    "Colección ordenada e inmutable:  "
   ]
  },
  {
   "cell_type": "code",
   "execution_count": null,
   "metadata": {},
   "outputs": [
    {
     "name": "stdout",
     "output_type": "stream",
     "text": [
      "JD\n",
      "1\n"
     ]
    }
   ],
   "source": [
    "mi_tupla = (1, \"JD\")\n",
    "print(mi_tupla[1])\n",
    "print(mi_tupla[0])\n"
   ]
  },
  {
   "cell_type": "markdown",
   "metadata": {},
   "source": [
    "### 6. Conjuntos (`set`)  \n",
    "Colección desordenada de elementos únicos:  \n"
   ]
  },
  {
   "cell_type": "code",
   "execution_count": null,
   "metadata": {},
   "outputs": [
    {
     "name": "stdout",
     "output_type": "stream",
     "text": [
      "{1, 2, 3, 4}\n"
     ]
    }
   ],
   "source": [
    "conjunto = {1, 2, 3, 3, 4}\n",
    "print(conjunto)"
   ]
  },
  {
   "cell_type": "markdown",
   "metadata": {},
   "source": [
    "### 7. Diccionarios (`dict`)  "
   ]
  },
  {
   "cell_type": "code",
   "execution_count": null,
   "metadata": {},
   "outputs": [
    {
     "name": "stdout",
     "output_type": "stream",
     "text": [
      "Juan Diego\n",
      "9\n"
     ]
    }
   ],
   "source": [
    "diccionario = {\"nombre\": \"Juan Diego\", \"Semestre\": 9}      \n",
    "print(diccionario[\"nombre\"]) \n",
    "print(diccionario[\"Semestre\"])"
   ]
  },
  {
   "cell_type": "markdown",
   "metadata": {},
   "source": [
    "## Conversión entre tipos de datos"
   ]
  },
  {
   "cell_type": "code",
   "execution_count": null,
   "metadata": {},
   "outputs": [
    {
     "name": "stdout",
     "output_type": "stream",
     "text": [
      "10\n",
      "3\n"
     ]
    }
   ],
   "source": [
    "\n",
    "numero = 10\n",
    "texto = str(numero)\n",
    "print(texto)\n",
    "\n",
    "decimal = 3.14\n",
    "entero = int(decimal)\n",
    "print(entero)"
   ]
  },
  {
   "cell_type": "markdown",
   "metadata": {},
   "source": [
    "# 🟢 Operaciones Básicas  \n",
    "\n",
    "## 📌 Operaciones Matemáticas  "
   ]
  },
  {
   "cell_type": "markdown",
   "metadata": {},
   "source": [
    "### Python permite realizar operaciones básicas:  \n"
   ]
  },
  {
   "cell_type": "code",
   "execution_count": null,
   "metadata": {},
   "outputs": [
    {
     "name": "stdout",
     "output_type": "stream",
     "text": [
      "23\n",
      "17\n",
      "60\n",
      "6.666666666666667\n",
      "6\n",
      "2\n",
      "8000\n"
     ]
    }
   ],
   "source": [
    "a = 20\n",
    "b = 3\n",
    "print(a + b)  # Suma: 14\n",
    "print(a - b)  # Resta: 6\n",
    "print(a * b)  # Multiplicación: 40\n",
    "print(a / b)  # División: 2.5\n",
    "print(a // b) # División entera: 2\n",
    "print(a % b)  # Módulo: 2\n",
    "print(a ** b) # Exponenciación: 10000"
   ]
  },
  {
   "cell_type": "markdown",
   "metadata": {},
   "source": [
    "### 2. Operaciones Lógicas  \n",
    "Los operadores `and`, `or` y `not` se usan para combinar condiciones: "
   ]
  },
  {
   "cell_type": "code",
   "execution_count": null,
   "metadata": {},
   "outputs": [
    {
     "name": "stdout",
     "output_type": "stream",
     "text": [
      "False\n",
      "True\n",
      "False\n"
     ]
    }
   ],
   "source": [
    "x = True\n",
    "y = False\n",
    "print(x and y)  \n",
    "print(x or y)  \n",
    "print(not x)   "
   ]
  },
  {
   "cell_type": "markdown",
   "metadata": {},
   "source": [
    "# (Felicidades vas por la mitad del tutorial!🥳🥳)"
   ]
  },
  {
   "cell_type": "markdown",
   "metadata": {},
   "source": [
    "### 3. Operaciones con Cadenas  \n"
   ]
  },
  {
   "cell_type": "markdown",
   "metadata": {},
   "source": [
    "#### 3.1 Concatenación:  "
   ]
  },
  {
   "cell_type": "code",
   "execution_count": null,
   "metadata": {},
   "outputs": [
    {
     "name": "stdout",
     "output_type": "stream",
     "text": [
      "El verde, es el mejor equipo de colombia\n"
     ]
    }
   ],
   "source": [
    "saludo = \"El verde, \" + \"es el mejor equipo de colombia\"\n",
    "print(saludo)"
   ]
  },
  {
   "cell_type": "markdown",
   "metadata": {},
   "source": [
    "#### 3.2 Repetición:  "
   ]
  },
  {
   "cell_type": "code",
   "execution_count": null,
   "metadata": {},
   "outputs": [
    {
     "name": "stdout",
     "output_type": "stream",
     "text": [
      "Juan DiegoJuan DiegoJuan Diego\n"
     ]
    }
   ],
   "source": [
    "repetir = \"Juan Diego\" * 3\n",
    "print(repetir) "
   ]
  },
  {
   "cell_type": "markdown",
   "metadata": {},
   "source": [
    "#### 3.3 Subcadenas:  "
   ]
  },
  {
   "cell_type": "code",
   "execution_count": null,
   "metadata": {},
   "outputs": [
    {
     "name": "stdout",
     "output_type": "stream",
     "text": [
      "Programación\n",
      "Python\n"
     ]
    }
   ],
   "source": [
    "texto = \"Programación en Python\"\n",
    "print(texto[:12])  \n",
    "print(texto[-6:])  "
   ]
  },
  {
   "cell_type": "markdown",
   "metadata": {},
   "source": [
    "# 🟢 Estructuras de Control  "
   ]
  },
  {
   "cell_type": "markdown",
   "metadata": {},
   "source": [
    "### 1. Condicionales"
   ]
  },
  {
   "cell_type": "code",
   "execution_count": null,
   "metadata": {},
   "outputs": [
    {
     "name": "stdout",
     "output_type": "stream",
     "text": [
      "Eres mayor de edad.\n"
     ]
    }
   ],
   "source": [
    "edad = 18\n",
    "if edad >= 18:\n",
    "    print(\"Eres mayor de edad.\")\n",
    "else:\n",
    "    print(\"Eres menor de edad.\")"
   ]
  },
  {
   "cell_type": "markdown",
   "metadata": {},
   "source": [
    "### 2. Bucles  "
   ]
  },
  {
   "cell_type": "code",
   "execution_count": null,
   "metadata": {},
   "outputs": [
    {
     "name": "stdout",
     "output_type": "stream",
     "text": [
      "0\n",
      "1\n",
      "2\n",
      "3\n",
      "4\n"
     ]
    }
   ],
   "source": [
    "#### Bucle `for`  \n",
    "\n",
    "for i in range(5):\n",
    "    print(i)  \n",
    "\n"
   ]
  },
  {
   "cell_type": "code",
   "execution_count": null,
   "metadata": {},
   "outputs": [
    {
     "name": "stdout",
     "output_type": "stream",
     "text": [
      "0\n",
      "1\n",
      "2\n",
      "3\n",
      "4\n"
     ]
    }
   ],
   "source": [
    "#### Bucle `while`  \n",
    "\n",
    "contador = 0\n",
    "while contador < 5:\n",
    "    print(contador)\n",
    "    contador += 1"
   ]
  },
  {
   "cell_type": "markdown",
   "metadata": {},
   "source": [
    "## 📌  Funciones en Python  "
   ]
  },
  {
   "cell_type": "markdown",
   "metadata": {},
   "source": [
    "### 1. Definiendo una función "
   ]
  },
  {
   "cell_type": "code",
   "execution_count": null,
   "metadata": {},
   "outputs": [
    {
     "name": "stdout",
     "output_type": "stream",
     "text": [
      "Hola, Juan Diego\n"
     ]
    }
   ],
   "source": [
    "def saludar():\n",
    "    print(\"Hola, Juan Diego\")\n",
    "\n",
    "saludar()\n",
    "\n"
   ]
  },
  {
   "cell_type": "markdown",
   "metadata": {},
   "source": [
    "### 2. Funciones con Argumentos y Retorno  "
   ]
  },
  {
   "cell_type": "code",
   "execution_count": null,
   "metadata": {},
   "outputs": [
    {
     "name": "stdout",
     "output_type": "stream",
     "text": [
      "2\n"
     ]
    }
   ],
   "source": [
    "def resta(a, b):\n",
    "    return a - b\n",
    "\n",
    "print(resta(5, 3)) "
   ]
  },
  {
   "cell_type": "markdown",
   "metadata": {},
   "source": [
    "### 3. Funciones Lambda "
   ]
  },
  {
   "cell_type": "code",
   "execution_count": null,
   "metadata": {},
   "outputs": [
    {
     "name": "stdout",
     "output_type": "stream",
     "text": [
      "16\n"
     ]
    }
   ],
   "source": [
    "cuadrado = lambda x: x ** 2\n",
    "print(cuadrado(4))"
   ]
  },
  {
   "cell_type": "markdown",
   "metadata": {},
   "source": [
    "# 🟢 Módulos e Importaciones"
   ]
  },
  {
   "cell_type": "markdown",
   "metadata": {},
   "source": [
    "### Puedes importar módulos en Python para usar funciones predefinidas:"
   ]
  },
  {
   "cell_type": "code",
   "execution_count": null,
   "metadata": {},
   "outputs": [
    {
     "name": "stdout",
     "output_type": "stream",
     "text": [
      "4.0\n"
     ]
    }
   ],
   "source": [
    "import math\n",
    "print(math.sqrt(16))"
   ]
  },
  {
   "cell_type": "markdown",
   "metadata": {},
   "source": [
    "### Importación con alias:  "
   ]
  },
  {
   "cell_type": "code",
   "execution_count": null,
   "metadata": {},
   "outputs": [
    {
     "name": "stdout",
     "output_type": "stream",
     "text": [
      "3.141592653589793\n"
     ]
    }
   ],
   "source": [
    "import math as m\n",
    "print(m.pi)"
   ]
  },
  {
   "cell_type": "markdown",
   "metadata": {},
   "source": [
    "### Importar solo funciones específicas:  "
   ]
  },
  {
   "cell_type": "code",
   "execution_count": null,
   "metadata": {},
   "outputs": [
    {
     "name": "stdout",
     "output_type": "stream",
     "text": [
      "3.0\n",
      "3.141592653589793\n"
     ]
    }
   ],
   "source": [
    "from math import sqrt, pi\n",
    "print(sqrt(9)) \n",
    "print(pi)   "
   ]
  },
  {
   "cell_type": "markdown",
   "metadata": {},
   "source": [
    "# 🎉 ¡Gracias por ver el tutorial! 🚀  \n",
    "\n",
    "## Espero que esta guía haya sido de gran ayuda en tu aprendizaje.  \n",
    "\n",
    "\n",
    "# ✨🔹 ¡Sigue explorando, programando y aprendiendo! 🔹✨\n",
    "\n"
   ]
  }
 ],
 "metadata": {
  "kernelspec": {
   "display_name": "Python 3",
   "language": "python",
   "name": "python3"
  },
  "language_info": {
   "codemirror_mode": {
    "name": "ipython",
    "version": 3
   },
   "file_extension": ".py",
   "mimetype": "text/x-python",
   "name": "python",
   "nbconvert_exporter": "python",
   "pygments_lexer": "ipython3",
   "version": "3.12.6"
  }
 },
 "nbformat": 4,
 "nbformat_minor": 2
}
